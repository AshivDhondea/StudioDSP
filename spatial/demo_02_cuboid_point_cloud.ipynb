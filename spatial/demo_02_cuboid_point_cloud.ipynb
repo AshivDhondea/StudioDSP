{
 "cells": [
  {
   "cell_type": "markdown",
   "id": "d4369a9e-0130-4e5a-8093-c306776f0c3a",
   "metadata": {},
   "source": [
    "# Cuboid point cloud visualization in Polyscope"
   ]
  },
  {
   "cell_type": "code",
   "execution_count": 1,
   "id": "550ca645-704f-4b34-a71d-3b13e40eed32",
   "metadata": {},
   "outputs": [
    {
     "name": "stdout",
     "output_type": "stream",
     "text": [
      "Jupyter environment detected. Enabling Open3D WebVisualizer.\n",
      "[Open3D INFO] WebRTC GUI backend enabled.\n",
      "[Open3D INFO] WebRTCWindowSystem: HTTP handshake server disabled.\n"
     ]
    }
   ],
   "source": [
    "import numpy as np\n",
    "import open3d as o3d"
   ]
  },
  {
   "cell_type": "markdown",
   "id": "cf81803b-dde0-48a6-b050-de70bc88013a",
   "metadata": {},
   "source": [
    "## Define the dimensions of the box"
   ]
  },
  {
   "cell_type": "code",
   "execution_count": 6,
   "id": "54e91069-1a50-4dbd-8242-caee82a8c4c4",
   "metadata": {},
   "outputs": [],
   "source": [
    "length = 0.3 # [m]\n",
    "width = 0.5 # [m]\n",
    "height = 0.7 # [m]\n",
    "resolution = 0.01 # [m]"
   ]
  },
  {
   "cell_type": "code",
   "execution_count": 12,
   "id": "77254e68-9f15-4cad-9753-75608783e356",
   "metadata": {},
   "outputs": [],
   "source": [
    "def make_cuboid_pcd(l: float, w: float, h: float, res: float) -> o3d.geometry.PointCloud:\n",
    "    # Create arrays for each dimension with the specified dimensions sampled at the specified resolution.\n",
    "    x = np.arange(start=0., stop=l, step=res, dtype=np.float64) # array of length d_x\n",
    "    y = np.arange(start=0., stop=w, step=res, dtype=np.float64) # array of length d_y\n",
    "    z = np.arange(start=0., stop=h, step=res, dtype=np.float64) # array of length d_z\n",
    "    # Face 1\n",
    "    # We create a rectangular grid of x and y coordinates for the given length and width.\n",
    "    xy_x, xy_y = np.meshgrid(x, y) # Both xy_x and xy_y have shape d_x by d_y\n",
    "    xy_z_1 = np.zeros_like(xy_x)\n",
    "    face_1_arr = np.vstack((np.reshape(xy_x, -1),\n",
    "                        np.reshape(xy_y, -1),\n",
    "                        np.reshape(xy_z_1, -1),\n",
    "                        ))\n",
    "    # Create a 3D point cloud using Open3D\n",
    "    face_1_pcd = o3d.geometry.PointCloud()\n",
    "    face_1_pcd.points = o3d.utility.Vector3dVector(face_1_arr.T)\n",
    "    # Get the corresponding z-coordinates for the points in face 3\n",
    "    xy_z_3 = h*np.ones_like(xy_x)\n",
    "    face_3_arr = np.vstack((np.reshape(xy_x, -1),\n",
    "                        np.reshape(xy_y, -1),\n",
    "                        np.reshape(xy_z_3, -1),\n",
    "                        ))\n",
    "    # Create a 3D point cloud using Open3D\n",
    "    face_3_pcd = o3d.geometry.PointCloud()\n",
    "    face_3_pcd.points = o3d.utility.Vector3dVector(face_3_arr.T)\n",
    "    yz_y, yz_z = np.meshgrid(y, z) # Both yz_y and yz_z have shape d_y by d_z\n",
    "\n",
    "    # Face 2, which is aligned with the x=0 plane.\n",
    "    yz_x_2 = np.zeros_like(yz_y)\n",
    "    face_2_arr = np.vstack((np.reshape(yz_x_2, -1),\n",
    "                        np.reshape(yz_y, -1),\n",
    "                        np.reshape(yz_z, -1),\n",
    "                        ))\n",
    "    # Create a 3D point cloud using Open3D\n",
    "    face_2_pcd = o3d.geometry.PointCloud()\n",
    "    face_2_pcd.points = o3d.utility.Vector3dVector(face_2_arr.T)\n",
    "\n",
    "    # Face 4.\n",
    "    yz_x_4 = l*np.ones_like(yz_y)\n",
    "    face_4_arr = np.vstack((np.reshape(yz_x_4, -1),\n",
    "                        np.reshape(yz_y, -1),\n",
    "                        np.reshape(yz_z, -1),\n",
    "                        ))\n",
    "    # Create a 3D point cloud using Open3D\n",
    "    face_4_pcd = o3d.geometry.PointCloud()\n",
    "    face_4_pcd.points = o3d.utility.Vector3dVector(face_4_arr.T)\n",
    "\n",
    "    # Face 5\n",
    "    xz_x, xz_z = np.meshgrid(x, z) # Both yz_x and yz_z have shape d_x by d_z\n",
    "    # We create the corresponding grid of x coordinates for face 5, which is aligned with the y=0 plane.\n",
    "    xz_y_5 = np.zeros_like(xz_x)\n",
    "    face_5_arr = np.vstack((np.reshape(xz_x, -1),\n",
    "                        np.reshape(xz_y_5, -1),\n",
    "                        np.reshape(xz_z, -1),\n",
    "                        ))\n",
    "    # Create a 3D point cloud using Open3D\n",
    "    face_5_pcd = o3d.geometry.PointCloud()\n",
    "    face_5_pcd.points = o3d.utility.Vector3dVector(face_5_arr.T)\n",
    "\n",
    "    # Face 6.\n",
    "    xz_y_6 = w*np.ones_like(xz_x)\n",
    "    face_6_arr = np.vstack((np.reshape(xz_x, -1),\n",
    "                        np.reshape(xz_y_6, -1),\n",
    "                        np.reshape(xz_z, -1),\n",
    "                        ))\n",
    "    # Create a 3D point cloud using Open3D\n",
    "    face_6_pcd = o3d.geometry.PointCloud()\n",
    "    face_6_pcd.points = o3d.utility.Vector3dVector(face_6_arr.T)\n",
    "    cuboid_pcd = face_1_pcd + face_2_pcd + face_3_pcd + face_4_pcd + face_5_pcd + face_6_pcd\n",
    "    # Remove duplicated points beloging to shared edges.\n",
    "    cuboid_pcd.remove_duplicated_points()\n",
    "    return cuboid_pcd\n"
   ]
  },
  {
   "cell_type": "code",
   "execution_count": 13,
   "id": "35dcf4e6-af40-407a-b3d4-53d7d04d38c8",
   "metadata": {},
   "outputs": [],
   "source": [
    "box_pcd = make_cuboid_pcd(length, width, height, resolution)\n",
    "# Calculate normals to improve illumination in data visualization\n",
    "box_pcd.estimate_normals(\n",
    "        search_param=o3d.geometry.KDTreeSearchParamHybrid(\n",
    "            radius=0.05,\n",
    "            max_nn=16\n",
    "        ),\n",
    "        fast_normal_computation=True,\n",
    ")\n",
    "o3d.visualization.draw_geometries(\n",
    "        geometry_list=[box_pcd],\n",
    "        window_name='Cuboid Point Cloud',\n",
    "        point_show_normal=False,)"
   ]
  },
  {
   "cell_type": "code",
   "execution_count": 14,
   "id": "ec5f2d65-337b-4bbf-a0a1-fa1692869b80",
   "metadata": {},
   "outputs": [],
   "source": [
    "import polyscope as ps\n",
    "\n",
    "ps_radius=0.01\n",
    "\n",
    "ps.init()\n",
    "ps.set_program_name(\"Point cloud viz\")\n",
    "ps.set_up_dir(\"z_up\")\n",
    "ps_box = ps.register_point_cloud(\"Box PCD\", np.asarray(box_pcd.points), enabled=True,\n",
    "                                              material='candy',\n",
    "                        radius=ps_radius, color=(1., 0., 0.),\n",
    "                        transparency=0.5)\n",
    "ps.show()"
   ]
  },
  {
   "cell_type": "code",
   "execution_count": null,
   "id": "48679def-bea6-46ec-8a93-e3f9bac8a191",
   "metadata": {},
   "outputs": [],
   "source": []
  }
 ],
 "metadata": {
  "kernelspec": {
   "display_name": "Python 3 (ipykernel)",
   "language": "python",
   "name": "python3"
  },
  "language_info": {
   "codemirror_mode": {
    "name": "ipython",
    "version": 3
   },
   "file_extension": ".py",
   "mimetype": "text/x-python",
   "name": "python",
   "nbconvert_exporter": "python",
   "pygments_lexer": "ipython3",
   "version": "3.11.10"
  }
 },
 "nbformat": 4,
 "nbformat_minor": 5
}
